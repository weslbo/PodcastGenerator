{
 "cells": [
  {
   "cell_type": "code",
   "execution_count": null,
   "metadata": {},
   "outputs": [],
   "source": [
    "# Retrieve all URLs from a Microsoft Learn Module"
   ]
  },
  {
   "cell_type": "code",
   "execution_count": null,
   "metadata": {},
   "outputs": [],
   "source": [
    "import requests\n",
    "import json\n",
    "from bs4 import BeautifulSoup\n",
    "from urllib.parse import urljoin"
   ]
  },
  {
   "cell_type": "code",
   "execution_count": null,
   "metadata": {},
   "outputs": [],
   "source": [
    "# DP-300\n",
    "list_of_learn_paths = [\n",
    "    \"https://learn.microsoft.com/en-us/training/paths/introduction-to-azure-database-administration/\",\n",
    "    \"https://learn.microsoft.com/en-us/training/paths/plan-implement-data-platform-resources/\",\n",
    "    \"https://learn.microsoft.com/en-us/training/paths/implement-secure-environment-database-service/\",\n",
    "    \"https://learn.microsoft.com/en-us/training/paths/monitor-optimize-operational-resources-sql-server/\",\n",
    "    \"https://learn.microsoft.com/en-us/training/paths/optimize-query-performance-sql-server/\",\n",
    "    \"https://learn.microsoft.com/en-us/training/paths/automate-tasks-sql-server/\",\n",
    "    \"https://learn.microsoft.com/en-us/training/paths/plan-implement-high-availability-disaster-recovery-environment/\"\n",
    "]"
   ]
  },
  {
   "cell_type": "code",
   "execution_count": null,
   "metadata": {},
   "outputs": [],
   "source": [
    "# DP-600\n",
    "list_of_learn_paths = [\n",
    "    \"https://learn.microsoft.com/en-us/training/paths/ingest-data-with-microsoft-fabric/\",\n",
    "    \"https://learn.microsoft.com/en-us/training/paths/implement-lakehouse-microsoft-fabric/\",\n",
    "    \"https://learn.microsoft.com/en-us/training/paths/work-with-data-warehouses-using-microsoft-fabric/\",\n",
    "    \"https://learn.microsoft.com/en-us/training/paths/work-semantic-models-microsoft-fabric/\",\n",
    "    \"https://learn.microsoft.com/en-us/training/paths/design-build-tabular-models/\",\n",
    "    \"https://learn.microsoft.com/en-us/training/paths/manage-analytics-development-lifecycle/\"\n",
    "]"
   ]
  },
  {
   "cell_type": "code",
   "execution_count": null,
   "metadata": {},
   "outputs": [],
   "source": [
    "data = []\n",
    "\n",
    "for url in list_of_learn_paths:\n",
    "    learn_path = requests.get(url)\n",
    "    soup_learnpath = BeautifulSoup(learn_path.text, \"html.parser\")\n",
    "    links_learnpath = soup_learnpath.find_all(class_=\"font-size-h6\")\n",
    "    title_learnpath = soup_learnpath.find(\"h1\", class_=\"title\").text\n",
    "    absolute_urls = [urljoin(url, link[\"href\"]) for link in links_learnpath]\n",
    "\n",
    "    print(title_learnpath)\n",
    "\n",
    "    jsondata_learnpath = {} \n",
    "    jsondata_learnpath[\"learning_path\"] = title_learnpath\n",
    "    jsondata_learnpath[\"url\"] = url \n",
    "    jsondata_learnpath[\"learning_modules\"] = []\n",
    "\n",
    "    for module in absolute_urls:\n",
    "        learn_module = requests.get(module)\n",
    "        soup_learnmodule = BeautifulSoup(learn_module.text, \"html.parser\")\n",
    "        links_units = soup_learnmodule.find_all(class_=\"unit-title\")\n",
    "        links_units = [link for link in links_units if not any(keyword in link[\"href\"] for keyword in [\"exercise\", \"knowledge-check\", \"summary\"])]\n",
    "        title_module = soup_learnmodule.find(\"h1\", class_=\"title\").text\n",
    "        absolute_urls_units = [urljoin(module, link[\"href\"]) for link in links_units]\n",
    "\n",
    "        print(\"- \" + title_module)\n",
    "\n",
    "        jsondata_learnmodule = {} \n",
    "        jsondata_learnmodule[\"learning_module\"] = title_module\n",
    "        jsondata_learnmodule[\"url\"] = module \n",
    "        jsondata_learnmodule[\"learning_units\"] = absolute_urls_units\n",
    "\n",
    "        jsondata_learnpath[\"learning_modules\"].append(jsondata_learnmodule)\n",
    "\n",
    "    data.append(jsondata_learnpath)\n",
    "    \n",
    "# Write the data to the JSON file\n",
    "with open(\"LearningPaths.json\", \"w\") as json_file:\n",
    "    json.dump(data, json_file, indent=2)\n",
    "\n",
    "print(\"Done!\")\n"
   ]
  }
 ],
 "metadata": {
  "kernelspec": {
   "display_name": "Python 3",
   "language": "python",
   "name": "python3"
  },
  "language_info": {
   "codemirror_mode": {
    "name": "ipython",
    "version": 3
   },
   "file_extension": ".py",
   "mimetype": "text/x-python",
   "name": "python",
   "nbconvert_exporter": "python",
   "pygments_lexer": "ipython3",
   "version": "3.11.7"
  }
 },
 "nbformat": 4,
 "nbformat_minor": 2
}
