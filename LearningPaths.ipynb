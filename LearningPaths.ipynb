{
 "cells": [
  {
   "cell_type": "code",
   "execution_count": null,
   "metadata": {},
   "outputs": [],
   "source": [
    "# Retrieve all URLs from a Microsoft Learn Module"
   ]
  },
  {
   "cell_type": "code",
   "execution_count": 1,
   "metadata": {},
   "outputs": [],
   "source": [
    "import requests\n",
    "import json\n",
    "from bs4 import BeautifulSoup\n",
    "from urllib.parse import urljoin"
   ]
  },
  {
   "cell_type": "code",
   "execution_count": null,
   "metadata": {},
   "outputs": [],
   "source": [
    "# DP-300\n",
    "list_of_learn_paths = [\n",
    "    \"https://learn.microsoft.com/en-us/training/paths/introduction-to-azure-database-administration/\",\n",
    "    \"https://learn.microsoft.com/en-us/training/paths/plan-implement-data-platform-resources/\",\n",
    "    \"https://learn.microsoft.com/en-us/training/paths/implement-secure-environment-database-service/\",\n",
    "    \"https://learn.microsoft.com/en-us/training/paths/monitor-optimize-operational-resources-sql-server/\",\n",
    "    \"https://learn.microsoft.com/en-us/training/paths/optimize-query-performance-sql-server/\",\n",
    "    \"https://learn.microsoft.com/en-us/training/paths/automate-tasks-sql-server/\",\n",
    "    \"https://learn.microsoft.com/en-us/training/paths/plan-implement-high-availability-disaster-recovery-environment/\"\n",
    "]"
   ]
  },
  {
   "cell_type": "code",
   "execution_count": 2,
   "metadata": {},
   "outputs": [],
   "source": [
    "# DP-600\n",
    "list_of_learn_paths = [\n",
    "    \"https://learn.microsoft.com/en-us/training/paths/ingest-data-with-microsoft-fabric/\",\n",
    "    \"https://learn.microsoft.com/en-us/training/paths/implement-lakehouse-microsoft-fabric/\",\n",
    "    \"https://learn.microsoft.com/en-us/training/paths/work-with-data-warehouses-using-microsoft-fabric/\",\n",
    "    \"https://learn.microsoft.com/en-us/training/paths/work-semantic-models-microsoft-fabric/\",\n",
    "    \"https://learn.microsoft.com/en-us/training/paths/design-build-tabular-models/\",\n",
    "    \"https://learn.microsoft.com/en-us/training/paths/manage-analytics-development-lifecycle/\"\n",
    "]"
   ]
  },
  {
   "cell_type": "code",
   "execution_count": 4,
   "metadata": {},
   "outputs": [],
   "source": [
    "# AI-3003\n",
    "list_of_learn_paths = [\n",
    "    \"https://learn.microsoft.com/en-us/training/paths/develop-language-solutions-azure-ai/\"\n",
    "]"
   ]
  },
  {
   "cell_type": "code",
   "execution_count": 2,
   "metadata": {},
   "outputs": [],
   "source": [
    "# AI-3004\n",
    "list_of_learn_paths = [\n",
    "    \"https://learn.microsoft.com/en-us/training/paths/create-computer-vision-solutions-azure-ai/\"\n",
    "]"
   ]
  },
  {
   "cell_type": "code",
   "execution_count": 3,
   "metadata": {},
   "outputs": [
    {
     "name": "stdout",
     "output_type": "stream",
     "text": [
      "Ingest data with Microsoft Fabric\n",
      "- Ingest Data with Dataflows Gen2 in Microsoft Fabric\n",
      "- Ingest data with Spark and Microsoft Fabric notebooks\n",
      "- Use Data Factory pipelines in Microsoft Fabric\n",
      "Implement a Lakehouse with Microsoft Fabric\n",
      "- Introduction to end-to-end analytics using Microsoft Fabric\n",
      "- Get started with lakehouses in Microsoft Fabric\n",
      "- Use Apache Spark in Microsoft Fabric\n",
      "- Work with Delta Lake tables in Microsoft Fabric\n",
      "- Ingest Data with Dataflows Gen2 in Microsoft Fabric\n",
      "- Use Data Factory pipelines in Microsoft Fabric\n",
      "- Organize a Fabric lakehouse using medallion architecture design\n",
      "Implement a data warehouse with Microsoft Fabric\n",
      "- Get started with data warehouses in Microsoft Fabric\n",
      "- Load data into a Microsoft Fabric data warehouse\n",
      "- Query a data warehouse in Microsoft Fabric\n",
      "- Monitor a Microsoft Fabric data warehouse\n",
      "Work with semantic models in Microsoft Fabric\n",
      "- Understand scalability in Power BI\n",
      "- Create Power BI model relationships\n",
      "- Use tools to optimize Power BI performance\n",
      "- Enforce Power BI model security\n",
      "Design and build tabular models\n",
      "- Create Power BI model relationships\n",
      "- Use DAX time intelligence functions in Power BI Desktop models\n",
      "- Create calculation groups\n",
      "- Enforce Power BI model security\n",
      "- Use tools to optimize Power BI performance\n",
      "Manage the analytics development lifecycle\n",
      "- Design a Power BI application lifecycle management strategy\n",
      "- Create and manage a Power BI deployment pipeline\n",
      "- Create and manage Power BI assets\n",
      "Done!\n"
     ]
    }
   ],
   "source": [
    "data = []\n",
    "\n",
    "for url in list_of_learn_paths:\n",
    "    learn_path = requests.get(url)\n",
    "    soup_learnpath = BeautifulSoup(learn_path.text, \"html.parser\")\n",
    "    links_learnpath = soup_learnpath.find_all(class_=\"font-size-h6\")\n",
    "    title_learnpath = soup_learnpath.find(\"h1\", class_=\"title\").text\n",
    "    absolute_urls = [urljoin(url, link[\"href\"]) for link in links_learnpath]\n",
    "\n",
    "    print(title_learnpath)\n",
    "\n",
    "    jsondata_learnpath = {} \n",
    "    jsondata_learnpath[\"learning_path\"] = title_learnpath\n",
    "    jsondata_learnpath[\"url\"] = url \n",
    "    jsondata_learnpath[\"learning_modules\"] = []\n",
    "\n",
    "    for module in absolute_urls:\n",
    "        learn_module = requests.get(module)\n",
    "        soup_learnmodule = BeautifulSoup(learn_module.text, \"html.parser\")\n",
    "        links_units = soup_learnmodule.find_all(class_=\"unit-title\")\n",
    "        links_units = [link for link in links_units if not any(keyword in link[\"href\"] for keyword in [\"exercise\", \"knowledge-check\", \"summary\"])]\n",
    "        title_module = soup_learnmodule.find(\"h1\", class_=\"title\").text\n",
    "        absolute_urls_units = [urljoin(module, link[\"href\"]) for link in links_units]\n",
    "\n",
    "        print(\"- \" + title_module)\n",
    "\n",
    "        jsondata_learnmodule = {} \n",
    "        jsondata_learnmodule[\"learning_module\"] = title_module\n",
    "        jsondata_learnmodule[\"url\"] = module \n",
    "        jsondata_learnmodule[\"learning_units\"] = absolute_urls_units\n",
    "\n",
    "        jsondata_learnpath[\"learning_modules\"].append(jsondata_learnmodule)\n",
    "\n",
    "    data.append(jsondata_learnpath)\n",
    "    \n",
    "# Write the data to the JSON file\n",
    "with open(\"LearningPaths.json\", \"w\") as json_file:\n",
    "    json.dump(data, json_file, indent=2)\n",
    "\n",
    "print(\"Done!\")\n"
   ]
  }
 ],
 "metadata": {
  "kernelspec": {
   "display_name": "Python 3",
   "language": "python",
   "name": "python3"
  },
  "language_info": {
   "codemirror_mode": {
    "name": "ipython",
    "version": 3
   },
   "file_extension": ".py",
   "mimetype": "text/x-python",
   "name": "python",
   "nbconvert_exporter": "python",
   "pygments_lexer": "ipython3",
   "version": "3.11.7"
  }
 },
 "nbformat": 4,
 "nbformat_minor": 2
}
